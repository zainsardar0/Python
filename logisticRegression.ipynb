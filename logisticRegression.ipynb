{
 "cells": [
  {
   "cell_type": "markdown",
   "metadata": {},
   "source": [
    "# Logistic Regression"
   ]
  },
  {
   "cell_type": "code",
   "execution_count": 1,
   "metadata": {},
   "outputs": [
    {
     "name": "stderr",
     "output_type": "stream",
     "text": [
      "C:\\Users\\PMYLS\\AppData\\Local\\Temp\\ipykernel_3308\\1555725054.py:37: DeprecationWarning: Conversion of an array with ndim > 0 to a scalar is deprecated, and will error in future. Ensure you extract a single element from your array before performing this operation. (Deprecated NumPy 1.25.)\n",
      "  self.cost_history[epoch] = self.compute_cost(X_b, y)\n"
     ]
    },
    {
     "name": "stdout",
     "output_type": "stream",
     "text": [
      "Final parameters: \n",
      "[[0.095547  ]\n",
      " [0.86507582]]\n"
     ]
    },
    {
     "data": {
      "image/png": "[encoded data removed]",
      "text/plain": [
       "<Figure size 640x480 with 1 Axes>"
      ]
     },
     "metadata": {},
     "output_type": "display_data"
    },
    {
     "name": "stdout",
     "output_type": "stream",
     "text": [
      "Predictions for X_new: \n",
      "[1 1 0]\n"
     ]
    }
   ],
   "source": [
    "import numpy as np\n",
    "import matplotlib.pyplot as plt\n",
    "\n",
    "class LogisticRegression:\n",
    "    def __init__(self, learning_rate=0.01, epochs=1000):\n",
    "        self.learning_rate = learning_rate\n",
    "        self.epochs = epochs\n",
    "        self.theta = None\n",
    "        self.cost_history = []\n",
    "\n",
    "    def sigmoid(self, z):\n",
    "        return 1 / (1 + np.exp(-z))\n",
    "\n",
    "    def predict_proba(self, X):\n",
    "        return self.sigmoid(X.dot(self.theta))\n",
    "\n",
    "    def predict(self, X):\n",
    "        proba = self.predict_proba(X)\n",
    "        return (proba >= 0.5).astype(int)\n",
    "\n",
    "    def compute_cost(self, X, y):\n",
    "        m = len(y)\n",
    "        predictions = self.predict_proba(X)\n",
    "        cost = (-1 / m) * (y.T.dot(np.log(predictions)) + (1 - y).T.dot(np.log(1 - predictions)))\n",
    "        return cost\n",
    "\n",
    "    def fit(self, X, y):\n",
    "        m = len(y)\n",
    "        X_b = np.c_[np.ones((m, 1)), X]  # Add a bias term (column of ones) to the input features\n",
    "        self.theta = np.random.randn(X_b.shape[1], 1)  # Initialize weights\n",
    "\n",
    "        self.cost_history = np.zeros(self.epochs)\n",
    "\n",
    "        for epoch in range(self.epochs):\n",
    "            gradients = (1 / m) * X_b.T.dot(self.predict_proba(X_b) - y)\n",
    "            self.theta -= self.learning_rate * gradients\n",
    "            self.cost_history[epoch] = self.compute_cost(X_b, y)\n",
    "\n",
    "    def plot_cost_history(self):\n",
    "        plt.plot(range(self.epochs), self.cost_history, 'b.')\n",
    "        plt.xlabel('Epochs')\n",
    "        plt.ylabel('Cost')\n",
    "        plt.title('Cost History')\n",
    "        plt.show()\n",
    "\n",
    "    def get_params(self):\n",
    "        return self.theta\n",
    "# Generate some example data\n",
    "np.random.seed(0)\n",
    "X = 2 * np.random.rand(100, 1) - 1  # Random data between -1 and 1\n",
    "y = (4 + 3 * X + np.random.randn(100, 1) > 4).astype(int)  # Generate labels\n",
    "\n",
    "# Initialize and train the logistic regression model\n",
    "log_reg_model = LogisticRegression(learning_rate=0.01, epochs=1000)\n",
    "log_reg_model.fit(X, y)\n",
    "\n",
    "# Print the final parameters\n",
    "print(f\"Final parameters: \\n{log_reg_model.get_params()}\")\n",
    "\n",
    "# Plot the cost history\n",
    "log_reg_model.plot_cost_history()\n",
    "\n",
    "# Make predictions\n",
    "X_new = np.array([[0], [2], [-2]])\n",
    "X_new_b = np.c_[np.ones((3, 1)), X_new]  # Add a bias term\n",
    "predictions = log_reg_model.predict(X_new_b)\n",
    "print(f\"Predictions for X_new: \\n{predictions.flatten()}\")\n"
   ]
  },
  {
   "cell_type": "code",
   "execution_count": null,
   "metadata": {},
   "outputs": [],
   "source": []
  }
 ],
 "metadata": {
  "kernelspec": {
   "display_name": "myEnv",
   "language": "python",
   "name": "python3"
  },
  "language_info": {
   "codemirror_mode": {
    "name": "ipython",
    "version": 3
   },
   "file_extension": ".py",
   "mimetype": "text/x-python",
   "name": "python",
   "nbconvert_exporter": "python",
   "pygments_lexer": "ipython3",
   "version": "3.10.13"
  }
 },
 "nbformat": 4,
 "nbformat_minor": 2
}
