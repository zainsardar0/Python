{
 "cells": [
  {
   "cell_type": "markdown",
   "id": "f9abf8e3",
   "metadata": {},
   "source": [
    "# Assignment: Multi_layer Preceptron"
   ]
  },
  {
   "cell_type": "code",
   "execution_count": 1,
   "id": "7f066d83",
   "metadata": {},
   "outputs": [],
   "source": [
    "#Inputs\n",
    "x1=0.64\n",
    "x2=0.36\n",
    "x3=0.75\n",
    "x4=0.44"
   ]
  },
  {
   "cell_type": "markdown",
   "id": "dc7c8be0",
   "metadata": {},
   "source": [
    "# Layer NO1\n",
    " Input1 wieghts"
   ]
  },
  {
   "cell_type": "code",
   "execution_count": 3,
   "id": "46d9a605",
   "metadata": {},
   "outputs": [],
   "source": [
    "#1st Input's Wieghts\n",
    "w1=0.012\n",
    "w2=0.014\n",
    "w3=0.016\n",
    "w4=0.018\n",
    "w5=0.020\n",
    "#2nd_Input's wieghts\n",
    "w6=0.022\n",
    "w7=0.024\n",
    "w8=0.026\n",
    "w9=0.028\n",
    "w10=0.030\n",
    "#3rd_Input's wieghts\n",
    "w11=0.032\n",
    "w12=0.034\n",
    "w13=0.036\n",
    "w14=0.038\n",
    "w15=0.040\n",
    "#4th_ Input's wiegthts \n",
    "w16=0.53\n",
    "w17=0.63\n",
    "w18=0.73\n",
    "w19=0.83\n",
    "w20=0.93\n"
   ]
  },
  {
   "cell_type": "code",
   "execution_count": 5,
   "id": "981469ad",
   "metadata": {},
   "outputs": [
    {
     "name": "stdout",
     "output_type": "stream",
     "text": [
      "0.43710000000000004\n",
      "0.5156000000000001\n",
      "0.5941\n",
      "0.6726\n",
      "0.7511\n"
     ]
    }
   ],
   "source": [
    "#Hidden layer_N0.1 cell_NO1\n",
    "hl1_c1=(x1*w1)+(x2*w6)+(x3*w11)+(x3*w16)\n",
    "print(hl1_c1)\n",
    "#Hidden layer_1 cell_NO2\n",
    "hl1_c2=(x1*w2)+(x2*w7)+(x3*w12)+(x3*w17)\n",
    "print(hl1_c2)\n",
    "#Hidden layer_1 cell_NO3\n",
    "hl1_c3=(x1*w3)+(x2*w8)+(x3*w13)+(x3*w18)\n",
    "print(hl1_c3)\n",
    "#Hidden layer_1 cell_NO4\n",
    "hl1_c4=(x1*w4)+(x2*w9)+(x3*w14)+(x3*w19)\n",
    "print(hl1_c4)\n",
    "#Hidden layer_1 cell_NO5\n",
    "hl1_c5=(x1*w5)+(x2*w10)+(x3*w15)+(x3*w20)\n",
    "print(hl1_c5)"
   ]
  },
  {
   "cell_type": "markdown",
   "id": "36757777",
   "metadata": {},
   "source": [
    "# Layer_No:2"
   ]
  },
  {
   "cell_type": "code",
   "execution_count": 6,
   "id": "315166a3",
   "metadata": {},
   "outputs": [],
   "source": [
    "#input_1 wieghts\n",
    "h1_w1=1.043\n",
    "h1_w2=1.044\n",
    "h1_w3=1.034\n",
    "h1_w4=1.54\n",
    "h1_w5=1.34\n",
    "#input_2 wieghts\n",
    "h1_w6=1.021\n",
    "h1_w7=1.022\n",
    "h1_w8=1.023\n",
    "h1_w9=1.024\n",
    "h1_w10=1.25\n",
    "\n",
    "#input_3 wieghts\n",
    "h1_w11=1.19\n",
    "h1_w12=1.18\n",
    "h1_w13=1.27\n",
    "h1_w14=1.16\n",
    "h1_w15=1.15\n",
    "\n",
    "#input_4 wieghts\n",
    "h1_w16=1.38\n",
    "h1_w17=1.36\n",
    "h1_w18=1.34\n",
    "h1_w19=1.32\n",
    "h1_w20=1.30\n",
    "\n",
    "#input_5 wieghts\n",
    "h1_w21=1.54\n",
    "h1_w22=1.52\n",
    "h1_w23=1.50\n",
    "h1_w24=1.48\n",
    "h1_w25=1.46\n",
    "\n",
    "\n",
    "\n"
   ]
  },
  {
   "cell_type": "code",
   "execution_count": 7,
   "id": "161e9f5b",
   "metadata": {},
   "outputs": [
    {
     "name": "stdout",
     "output_type": "stream",
     "text": [
      "3.7741838999999997\n",
      "3.7407215999999996\n",
      "3.7618612000000002\n",
      "3.8897244\n",
      "3.884415\n"
     ]
    }
   ],
   "source": [
    "#Hidden layer_2 cell_NO1\n",
    "h2_c1=(hl1_c1*h1_w1)+(hl1_c2*h1_w6)+(hl1_c3*h1_w11)+(hl1_c4*h1_w16)+(hl1_c5*h1_w21)\n",
    "print(h2_c1)\n",
    "#Hidden layer_2 cell_NO2\n",
    "h2_c2=(hl1_c1*h1_w2)+(hl1_c2*h1_w7)+(hl1_c3*h1_w12)+(hl1_c4*h1_w17)+(hl1_c5*h1_w22)\n",
    "print(h2_c2)\n",
    "#Hidden layer_2 cell_NO3\n",
    "h2_c3=(hl1_c1*h1_w3)+(hl1_c2*h1_w8)+(hl1_c3*h1_w13)+(hl1_c4*h1_w18)+(hl1_c5*h1_w23)\n",
    "print(h2_c3)\n",
    "#Hidden layer_2 cell_NO4\n",
    "h2_c4=(hl1_c1*h1_w4)+(hl1_c2*h1_w9)+(hl1_c3*h1_w14)+(hl1_c4*h1_w19)+(hl1_c5*h1_w24)\n",
    "print(h2_c4)\n",
    "#Hidden layer_2 cell_NO5\n",
    "h2_c5=(hl1_c1*h1_w5)+(hl1_c2*h1_w10)+(hl1_c3*h1_w15)+(hl1_c4*h1_w20)+(hl1_c5*h1_w25)\n",
    "print(h2_c5)"
   ]
  },
  {
   "cell_type": "code",
   "execution_count": 8,
   "id": "257a4cf7",
   "metadata": {},
   "outputs": [
    {
     "name": "stdout",
     "output_type": "stream",
     "text": [
      "19.0509061\n"
     ]
    }
   ],
   "source": [
    "#final output\n",
    "out_put=(h2_c1+h2_c2+h2_c3+h2_c4+h2_c5)\n",
    "print(out_put)"
   ]
  },
  {
   "cell_type": "code",
   "execution_count": null,
   "id": "7f03580c",
   "metadata": {},
   "outputs": [],
   "source": []
  }
 ],
 "metadata": {
  "kernelspec": {
   "display_name": "Python 3 (ipykernel)",
   "language": "python",
   "name": "python3"
  },
  "language_info": {
   "codemirror_mode": {
    "name": "ipython",
    "version": 3
   },
   "file_extension": ".py",
   "mimetype": "text/x-python",
   "name": "python",
   "nbconvert_exporter": "python",
   "pygments_lexer": "ipython3",
   "version": "3.10.13"
  }
 },
 "nbformat": 4,
 "nbformat_minor": 5
}
