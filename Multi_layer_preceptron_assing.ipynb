{
 "cells": [
  {
   "cell_type": "markdown",
   "id": "c0372f80",
   "metadata": {},
   "source": [
    "# Multi_layer Presptron"
   ]
  },
  {
   "cell_type": "code",
   "execution_count": 1,
   "id": "8d1c8674",
   "metadata": {},
   "outputs": [],
   "source": [
    "#Inputs\n",
    "x1=0.4\n",
    "x2=0.3\n",
    "x3=0.7\n",
    "x4=0.6"
   ]
  },
  {
   "cell_type": "markdown",
   "id": "e9c43dc6",
   "metadata": {},
   "source": [
    "# Layer NO1\n",
    " Input1 wieghts"
   ]
  },
  {
   "cell_type": "code",
   "execution_count": 2,
   "id": "3db28b98",
   "metadata": {},
   "outputs": [],
   "source": [
    "#Input_1 wieghts\n",
    "w1=0.05\n",
    "w2=0.07\n",
    "w3=0.09\n",
    "w4=0.11\n",
    "w5=0.12\n",
    "#input_2 wieghts\n",
    "w6=0.14\n",
    "w7=0.16\n",
    "w8=0.18\n",
    "w9=0.20\n",
    "w10=0.22\n",
    "#Input_3 wieghts\n",
    "w11=0.24\n",
    "w12=0.26\n",
    "w13=0.28\n",
    "w14=0.30\n",
    "w15=0.32\n",
    "# Input_4 wiegthts \n",
    "w16=0.34\n",
    "w17=0.36\n",
    "w18=0.38\n",
    "w19=0.40\n",
    "w20=0.42\n"
   ]
  },
  {
   "cell_type": "code",
   "execution_count": 3,
   "id": "020b9fc7",
   "metadata": {},
   "outputs": [
    {
     "name": "stdout",
     "output_type": "stream",
     "text": [
      "0.46799999999999997\n",
      "0.51\n",
      "0.552\n",
      "0.594\n",
      "0.6319999999999999\n"
     ]
    }
   ],
   "source": [
    "#Hidden layer_1 cell_NO1\n",
    "h1_c1=(x1*w1)+(x2*w6)+(x3*w11)+(x3*w16)\n",
    "print(h1_c1)\n",
    "#Hidden layer_1 cell_NO2\n",
    "h1_c2=(x1*w2)+(x2*w7)+(x3*w12)+(x3*w17)\n",
    "print(h1_c2)\n",
    "#Hidden layer_1 cell_NO3\n",
    "h1_c3=(x1*w3)+(x2*w8)+(x3*w13)+(x3*w18)\n",
    "print(h1_c3)\n",
    "#Hidden layer_1 cell_NO4\n",
    "h1_c4=(x1*w4)+(x2*w9)+(x3*w14)+(x3*w19)\n",
    "print(h1_c4)\n",
    "#Hidden layer_1 cell_NO5\n",
    "h1_c5=(x1*w5)+(x2*w10)+(x3*w15)+(x3*w20)\n",
    "print(h1_c5)"
   ]
  },
  {
   "cell_type": "markdown",
   "id": "d60f5ab5",
   "metadata": {},
   "source": [
    "# Layer_No:2"
   ]
  },
  {
   "cell_type": "code",
   "execution_count": 4,
   "id": "c99d9b1f",
   "metadata": {},
   "outputs": [],
   "source": [
    "#input_1 wieghts\n",
    "h1_w1=1.01\n",
    "h1_w2=1.02\n",
    "h1_w3=1.03\n",
    "h1_w4=1.04\n",
    "h1_w5=1.05\n",
    "#input_2 wieghts\n",
    "h1_w6=1.06\n",
    "h1_w7=1.07\n",
    "h1_w8=1.08\n",
    "h1_w9=1.09\n",
    "h1_w10=1.10\n",
    "\n",
    "#input_3 wieghts\n",
    "h1_w11=1.11\n",
    "h1_w12=1.12\n",
    "h1_w13=1.13\n",
    "h1_w14=1.14\n",
    "h1_w15=1.15\n",
    "\n",
    "#input_4 wieghts\n",
    "h1_w16=1.16\n",
    "h1_w17=1.17\n",
    "h1_w18=1.18\n",
    "h1_w19=1.19\n",
    "h1_w20=1.20\n",
    "\n",
    "#input_5 wieghts\n",
    "h1_w21=1.21\n",
    "h1_w22=1.22\n",
    "h1_w23=1.23\n",
    "h1_w24=1.24\n",
    "h1_w25=1.25\n",
    "\n",
    "\n",
    "\n"
   ]
  },
  {
   "cell_type": "code",
   "execution_count": 5,
   "id": "6700b5a3",
   "metadata": {},
   "outputs": [
    {
     "name": "stdout",
     "output_type": "stream",
     "text": [
      "3.0797599999999994\n",
      "3.10732\n",
      "3.13488\n",
      "3.1624399999999997\n",
      "3.1899999999999995\n"
     ]
    }
   ],
   "source": [
    "#Hidden layer_2 cell_NO1\n",
    "h2_c1=(h1_c1*h1_w1)+(h1_c2*h1_w6)+(h1_c3*h1_w11)+(h1_c4*h1_w16)+(h1_c5*h1_w21)\n",
    "print(h2_c1)\n",
    "#Hidden layer_2 cell_NO2\n",
    "h2_c2=(h1_c1*h1_w2)+(h1_c2*h1_w7)+(h1_c3*h1_w12)+(h1_c4*h1_w17)+(h1_c5*h1_w22)\n",
    "print(h2_c2)\n",
    "#Hidden layer_2 cell_NO3\n",
    "h2_c3=(h1_c1*h1_w3)+(h1_c2*h1_w8)+(h1_c3*h1_w13)+(h1_c4*h1_w18)+(h1_c5*h1_w23)\n",
    "print(h2_c3)\n",
    "#Hidden layer_2 cell_NO4\n",
    "h2_c4=(h1_c1*h1_w4)+(h1_c2*h1_w9)+(h1_c3*h1_w14)+(h1_c4*h1_w19)+(h1_c5*h1_w24)\n",
    "print(h2_c4)\n",
    "#Hidden layer_2 cell_NO5\n",
    "h2_c5=(h1_c1*h1_w5)+(h1_c2*h1_w10)+(h1_c3*h1_w15)+(h1_c4*h1_w20)+(h1_c5*h1_w25)\n",
    "print(h2_c5)"
   ]
  },
  {
   "cell_type": "code",
   "execution_count": null,
   "id": "fc328027",
   "metadata": {},
   "outputs": [],
   "source": []
  }
 ],
 "metadata": {
  "kernelspec": {
   "display_name": "Python 3 (ipykernel)",
   "language": "python",
   "name": "python3"
  },
  "language_info": {
   "codemirror_mode": {
    "name": "ipython",
    "version": 3
   },
   "file_extension": ".py",
   "mimetype": "text/x-python",
   "name": "python",
   "nbconvert_exporter": "python",
   "pygments_lexer": "ipython3",
   "version": "3.11.5"
  }
 },
 "nbformat": 4,
 "nbformat_minor": 5
}
