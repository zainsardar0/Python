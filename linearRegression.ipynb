{
 "cells": [
  {
   "cell_type": "markdown",
   "metadata": {},
   "source": []
  },
  {
   "cell_type": "code",
   "execution_count": 1,
   "metadata": {},
   "outputs": [
    {
     "name": "stdout",
     "output_type": "stream",
     "text": [
      "Final parameters: \n",
      "[[4.14146131]\n",
      " [3.04006593]]\n"
     ]
    },
    {
     "data": {
      "image/png": "[encoded data removed]",
      "text/plain": [
       "<Figure size 640x480 with 1 Axes>"
      ]
     },
     "metadata": {},
     "output_type": "display_data"
    },
    {
     "name": "stdout",
     "output_type": "stream",
     "text": [
      "Predictions for X_new: \n",
      "[[ 4.14146131]\n",
      " [10.22159317]]\n"
     ]
    }
   ],
   "source": [
    "import numpy as np\n",
    "import matplotlib.pyplot as plt\n",
    "\n",
    "class LinearRegression:\n",
    "    def __init__(self, learning_rate=0.01, epochs=1000):\n",
    "        self.learning_rate = learning_rate\n",
    "        self.epochs = epochs\n",
    "        self.theta = None\n",
    "        self.cost_history = []\n",
    "\n",
    "    def predict(self, X):\n",
    "        return X.dot(self.theta)\n",
    "\n",
    "    def compute_cost(self, X, y):\n",
    "        m = len(y)\n",
    "        predictions = self.predict(X)\n",
    "        cost = (1 / (2 * m)) * np.sum(np.square(predictions - y))\n",
    "        return cost\n",
    "\n",
    "    def fit(self, X, y):\n",
    "        m = len(y)\n",
    "        X_b = np.c_[np.ones((m, 1)), X]  # Add a bias term (column of ones) to the input features\n",
    "        self.theta = np.random.randn(X_b.shape[1], 1)  # Initialize weights\n",
    "\n",
    "        self.cost_history = np.zeros(self.epochs)\n",
    "\n",
    "        for epoch in range(self.epochs):\n",
    "            gradients = (1 / m) * X_b.T.dot(self.predict(X_b) - y)\n",
    "            self.theta -= self.learning_rate * gradients\n",
    "            self.cost_history[epoch] = self.compute_cost(X_b, y)\n",
    "\n",
    "    def plot_cost_history(self):\n",
    "        plt.plot(range(self.epochs), self.cost_history, 'b.')\n",
    "        plt.xlabel('Epochs')\n",
    "        plt.ylabel('Cost')\n",
    "        plt.title('Cost History')\n",
    "        plt.show()\n",
    "\n",
    "    def get_params(self):\n",
    "        return self.theta\n",
    "# Generate some example data\n",
    "np.random.seed(0)\n",
    "X = 2 * np.random.rand(100, 1)\n",
    "y = 4 + 3 * X + np.random.randn(100, 1)\n",
    "\n",
    "# Initialize and train the linear regression model\n",
    "lr_model = LinearRegression(learning_rate=0.01, epochs=1000)\n",
    "lr_model.fit(X, y)\n",
    "\n",
    "# Print the final parameters\n",
    "print(f\"Final parameters: \\n{lr_model.get_params()}\")\n",
    "\n",
    "# Plot the cost history\n",
    "lr_model.plot_cost_history()\n",
    "\n",
    "# Make predictions\n",
    "X_new = np.array([[0], [2]])\n",
    "X_new_b = np.c_[np.ones((2, 1)), X_new]  # Add a bias term\n",
    "predictions = lr_model.predict(X_new_b)\n",
    "print(f\"Predictions for X_new: \\n{predictions}\")\n"
   ]
  },
  {
   "cell_type": "code",
   "execution_count": null,
   "metadata": {},
   "outputs": [],
   "source": []
  }
 ],
 "metadata": {
  "kernelspec": {
   "display_name": "myEnv",
   "language": "python",
   "name": "python3"
  },
  "language_info": {
   "codemirror_mode": {
    "name": "ipython",
    "version": 3
   },
   "file_extension": ".py",
   "mimetype": "text/x-python",
   "name": "python",
   "nbconvert_exporter": "python",
   "pygments_lexer": "ipython3",
   "version": "3.10.13"
  }
 },
 "nbformat": 4,
 "nbformat_minor": 2
}
